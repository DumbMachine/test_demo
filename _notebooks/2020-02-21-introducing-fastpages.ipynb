{
 "cells": [
  {
   "cell_type": "code",
   "execution_count": 18,
   "metadata": {},
   "outputs": [
    {
     "name": "stdout",
     "output_type": "stream",
     "text": [
      "\n",
      "\n",
      "\n",
      "\n",
      "\n",
      "\n",
      "\n",
      "\n",
      "\n",
      "\n",
      "\n",
      "\n",
      "\n",
      "\n",
      "\n",
      "\n",
      "\n",
      "\n"
     ]
    },
    {
     "data": {
      "text/html": [
       "\n",
       "<head>\n",
       "<script src=\"js/profile.js\"></script>\n",
       "<style>\n",
       "@import 'https://fonts.googleapis.com/css?family=Raleway';\n",
       "* {\n",
       "  outline: none;\n",
       "  user-select: none;\n",
       "}\n",
       "\n",
       "body, html {\n",
       "  margin: 0;\n",
       "  background: #ddd;\n",
       "  color: #7a7b7c;\n",
       "}\n",
       "\n",
       "body {\n",
       "  font-family: \"Raleway\", \"Microsoft JhengHei\", Arial, sans-serif;\n",
       "}\n",
       "\n",
       ".profile {\n",
       "  width: 330px;\n",
       "  height: 100px;\n",
       "  position: absolute;\n",
       "  top: 50%;\n",
       "  left: 50%;\n",
       "  transform: translate(-50%, -50%);\n",
       "  border-radius: 5px;\n",
       "  background-color: #fafafa;\n",
       "  box-shadow: 0 0 2rem #babbbc;\n",
       "  animation: show-profile 0.5s forwards ease-in-out;\n",
       "}\n",
       "@keyframes show-profile {\n",
       "  0% {\n",
       "    width: 0;\n",
       "  }\n",
       "}\n",
       ".profile .photo, .profile .content {\n",
       "  box-sizing: border-box;\n",
       "}\n",
       ".profile .photo {\n",
       "  width: 100px;\n",
       "  height: 100px;\n",
       "  border-radius: 50%;\n",
       "  overflow: hidden;\n",
       "  border: 5px solid #fafafa;\n",
       "  background-color: #fafafa;\n",
       "  margin-left: -50px;\n",
       "  box-shadow: 0 0 0.5rem #babbbc;\n",
       "  animation: rotate-photo 0.5s forwards ease-in-out;\n",
       "}\n",
       "@keyframes rotate-photo {\n",
       "  100% {\n",
       "    transform: rotate(-360deg);\n",
       "  }\n",
       "}\n",
       ".profile .photo img {\n",
       "  width: 100%;\n",
       "}\n",
       ".profile .content {\n",
       "  padding: 10px;\n",
       "  overflow: hidden;\n",
       "  position: absolute;\n",
       "  width: 100%;\n",
       "  height: 100%;\n",
       "  top: 0;\n",
       "  left: 0;\n",
       "}\n",
       ".profile .content::before {\n",
       "  content: \"\";\n",
       "  position: absolute;\n",
       "  width: 230px;\n",
       "  height: 150px;\n",
       "  background-color: #e9f3e6;\n",
       "  left: 0;\n",
       "  top: -20px;\n",
       "  z-index: -1;\n",
       "  transform: rotate(-8deg);\n",
       "}\n",
       ".profile .content .text {\n",
       "  margin-top: 20px;\n",
       "  margin-left: 50px;\n",
       "}\n",
       ".profile .content .text h3, .profile .content .text h6 {\n",
       "  font-weight: normal;\n",
       "  margin: 3px 0;\n",
       "  letter-spacing: 0.5px;\n",
       "  white-space: nowrap;\n",
       "}\n",
       ".profile .content .btn {\n",
       "  background-color: #abc;\n",
       "  width: 50px;\n",
       "  height: 50px;\n",
       "  position: absolute;\n",
       "  right: 25px;\n",
       "  top: 25px;\n",
       "  border-radius: 50%;\n",
       "  z-index: 1;\n",
       "  cursor: pointer;\n",
       "  transition-duration: 0.3s;\n",
       "  animation: pop-btn 0.3s both ease-in-out 0.5s;\n",
       "}\n",
       "@keyframes pop-btn {\n",
       "  0% {\n",
       "    transform: scale(0);\n",
       "  }\n",
       "  80% {\n",
       "    transform: scale(1.2);\n",
       "  }\n",
       "  100% {\n",
       "    transform: scale(1);\n",
       "  }\n",
       "}\n",
       ".profile .content .btn:hover {\n",
       "  box-shadow: 0 0 0 5px rgba(170, 187, 204, 0.5);\n",
       "}\n",
       ".profile .content .btn span {\n",
       "  width: 60%;\n",
       "  height: 2px;\n",
       "  position: absolute;\n",
       "  background-color: white;\n",
       "  top: 50%;\n",
       "  left: 20%;\n",
       "  transform: translateY(-50%);\n",
       "  animation: to-hamburger 0.3s forwards ease-in-out;\n",
       "}\n",
       ".profile .content .btn span::before, .profile .content .btn span::after {\n",
       "  content: \"\";\n",
       "  width: 100%;\n",
       "  height: 2px;\n",
       "  position: absolute;\n",
       "  background-color: white;\n",
       "  transition-duration: 0.3s;\n",
       "  transform: rotate(0deg);\n",
       "  right: 0;\n",
       "}\n",
       ".profile .content .btn span::before {\n",
       "  margin-top: -7px;\n",
       "}\n",
       ".profile .content .btn span::after {\n",
       "  margin-top: 7px;\n",
       "}\n",
       ".profile .content .btn.active span {\n",
       "  animation: to-arrow 0.3s forwards ease-in-out;\n",
       "}\n",
       ".profile .content .btn.active span::before, .profile .content .btn.active span::after {\n",
       "  width: 60%;\n",
       "  right: -1px;\n",
       "}\n",
       ".profile .content .btn.active span::before {\n",
       "  transform: rotate(45deg);\n",
       "}\n",
       ".profile .content .btn.active span::after {\n",
       "  transform: rotate(-45deg);\n",
       "}\n",
       "@keyframes to-hamburger {\n",
       "  from {\n",
       "    transform: translateY(-50%) rotate(-180deg);\n",
       "  }\n",
       "}\n",
       "@keyframes to-arrow {\n",
       "  from {\n",
       "    transform: translateY(-50%) rotate(0deg);\n",
       "  }\n",
       "  to {\n",
       "    transform: translateY(-50%) rotate(180deg);\n",
       "  }\n",
       "}\n",
       ".profile .box {\n",
       "  width: 150px;\n",
       "  height: 150px;\n",
       "  opacity: 0;\n",
       "  border-radius: 50%;\n",
       "  background-color: rgba(255, 255, 255, 0.7);\n",
       "  position: absolute;\n",
       "  top: 50%;\n",
       "  right: -40%;\n",
       "  transform: translate(-50%, -50%);\n",
       "  transition-duration: 0.3s;\n",
       "}\n",
       ".profile .box i {\n",
       "  width: 50px;\n",
       "  height: 50px;\n",
       "  border-radius: 50%;\n",
       "  background-color: #ececec;\n",
       "  font-size: 26px;\n",
       "  text-align: center;\n",
       "  line-height: 50px;\n",
       "  position: absolute;\n",
       "  left: 18px;\n",
       "  top: calc(75px - 50px/2);\n",
       "  box-shadow: 0 0 0.5rem #babbbc;\n",
       "  transition-duration: 0.3s;\n",
       "}\n",
       ".profile .box i:hover {\n",
       "  transition-delay: initial !important;\n",
       "  box-shadow: 0 0 0 5px #babbbc;\n",
       "}\n",
       ".profile .box.open {\n",
       "  opacity: 1;\n",
       "}\n",
       ".profile .box.open i {\n",
       "  left: 60px;\n",
       "}\n",
       ".profile .box.open i:nth-of-type(1) {\n",
       "  transform: rotate(-90deg) translateX(120px) rotate(90deg);\n",
       "  transition-delay: 0s;\n",
       "}\n",
       ".profile .box.open i:nth-of-type(2) {\n",
       "  transform: rotate(-45deg) translateX(120px) rotate(45deg);\n",
       "  transition-delay: 0.1s;\n",
       "}\n",
       ".profile .box.open i:nth-of-type(3) {\n",
       "  transform: rotate(0deg) translateX(120px) rotate(0deg);\n",
       "  transition-delay: 0.2s;\n",
       "}\n",
       ".profile .box.open i:nth-of-type(4) {\n",
       "  transform: rotate(45deg) translateX(120px) rotate(-45deg);\n",
       "  transition-delay: 0.3s;\n",
       "}\n",
       ".profile .box.open i:nth-of-type(5) {\n",
       "  transform: rotate(90deg) translateX(120px) rotate(-90deg);\n",
       "  transition-delay: 0.4s;\n",
       "}\n",
       "</style>\n",
       "</head>\n",
       "<div class=\"profile\">\n",
       "  <div class=\"photo\"><img src=\"https://pbs.twimg.com/profile_images/874276197357596672/kUuht00m_400x400.jpg\"/></div>\n",
       "  <div class=\"content\">\n",
       "    <div class=\"text\">\n",
       "      <h3>Kelly Chen</h3>\n",
       "      <h6>Front-end Web Designer</h6>\n",
       "    </div>\n",
       "    <div class=\"btn\"><span></span></div>\n",
       "  </div>\n",
       "  <div class=\"box\"><i class=\"fa fa-codepen\"></i><i class=\"fa fa-facebook\"></i><i class=\"fa fa-github\"></i><i class=\"fa fa-tumblr\"></i><i class=\"fa fa-twitter\"></i></div>\n",
       "</div>\n"
      ],
      "text/plain": [
       "<IPython.core.display.HTML object>"
      ]
     },
     "execution_count": 18,
     "metadata": {},
     "output_type": "execute_result"
    }
   ],
   "source": [
    "#hide_input\n",
    "html = \"\"\"\n",
    "<head>\n",
    "<script src=\"js/profile.js\"></script>\n",
    "<style>\n",
    "@import 'https://fonts.googleapis.com/css?family=Raleway';\n",
    "* {\n",
    "  outline: none;\n",
    "  user-select: none;\n",
    "}\n",
    "\n",
    "body, html {\n",
    "  margin: 0;\n",
    "  background: #ddd;\n",
    "  color: #7a7b7c;\n",
    "}\n",
    "\n",
    "body {\n",
    "  font-family: \"Raleway\", \"Microsoft JhengHei\", Arial, sans-serif;\n",
    "}\n",
    "\n",
    ".profile {\n",
    "  width: 330px;\n",
    "  height: 100px;\n",
    "  position: absolute;\n",
    "  top: 50%;\n",
    "  left: 50%;\n",
    "  transform: translate(-50%, -50%);\n",
    "  border-radius: 5px;\n",
    "  background-color: #fafafa;\n",
    "  box-shadow: 0 0 2rem #babbbc;\n",
    "  animation: show-profile 0.5s forwards ease-in-out;\n",
    "}\n",
    "@keyframes show-profile {\n",
    "  0% {\n",
    "    width: 0;\n",
    "  }\n",
    "}\n",
    ".profile .photo, .profile .content {\n",
    "  box-sizing: border-box;\n",
    "}\n",
    ".profile .photo {\n",
    "  width: 100px;\n",
    "  height: 100px;\n",
    "  border-radius: 50%;\n",
    "  overflow: hidden;\n",
    "  border: 5px solid #fafafa;\n",
    "  background-color: #fafafa;\n",
    "  margin-left: -50px;\n",
    "  box-shadow: 0 0 0.5rem #babbbc;\n",
    "  animation: rotate-photo 0.5s forwards ease-in-out;\n",
    "}\n",
    "@keyframes rotate-photo {\n",
    "  100% {\n",
    "    transform: rotate(-360deg);\n",
    "  }\n",
    "}\n",
    ".profile .photo img {\n",
    "  width: 100%;\n",
    "}\n",
    ".profile .content {\n",
    "  padding: 10px;\n",
    "  overflow: hidden;\n",
    "  position: absolute;\n",
    "  width: 100%;\n",
    "  height: 100%;\n",
    "  top: 0;\n",
    "  left: 0;\n",
    "}\n",
    ".profile .content::before {\n",
    "  content: \"\";\n",
    "  position: absolute;\n",
    "  width: 230px;\n",
    "  height: 150px;\n",
    "  background-color: #e9f3e6;\n",
    "  left: 0;\n",
    "  top: -20px;\n",
    "  z-index: -1;\n",
    "  transform: rotate(-8deg);\n",
    "}\n",
    ".profile .content .text {\n",
    "  margin-top: 20px;\n",
    "  margin-left: 50px;\n",
    "}\n",
    ".profile .content .text h3, .profile .content .text h6 {\n",
    "  font-weight: normal;\n",
    "  margin: 3px 0;\n",
    "  letter-spacing: 0.5px;\n",
    "  white-space: nowrap;\n",
    "}\n",
    ".profile .content .btn {\n",
    "  background-color: #abc;\n",
    "  width: 50px;\n",
    "  height: 50px;\n",
    "  position: absolute;\n",
    "  right: 25px;\n",
    "  top: 25px;\n",
    "  border-radius: 50%;\n",
    "  z-index: 1;\n",
    "  cursor: pointer;\n",
    "  transition-duration: 0.3s;\n",
    "  animation: pop-btn 0.3s both ease-in-out 0.5s;\n",
    "}\n",
    "@keyframes pop-btn {\n",
    "  0% {\n",
    "    transform: scale(0);\n",
    "  }\n",
    "  80% {\n",
    "    transform: scale(1.2);\n",
    "  }\n",
    "  100% {\n",
    "    transform: scale(1);\n",
    "  }\n",
    "}\n",
    ".profile .content .btn:hover {\n",
    "  box-shadow: 0 0 0 5px rgba(170, 187, 204, 0.5);\n",
    "}\n",
    ".profile .content .btn span {\n",
    "  width: 60%;\n",
    "  height: 2px;\n",
    "  position: absolute;\n",
    "  background-color: white;\n",
    "  top: 50%;\n",
    "  left: 20%;\n",
    "  transform: translateY(-50%);\n",
    "  animation: to-hamburger 0.3s forwards ease-in-out;\n",
    "}\n",
    ".profile .content .btn span::before, .profile .content .btn span::after {\n",
    "  content: \"\";\n",
    "  width: 100%;\n",
    "  height: 2px;\n",
    "  position: absolute;\n",
    "  background-color: white;\n",
    "  transition-duration: 0.3s;\n",
    "  transform: rotate(0deg);\n",
    "  right: 0;\n",
    "}\n",
    ".profile .content .btn span::before {\n",
    "  margin-top: -7px;\n",
    "}\n",
    ".profile .content .btn span::after {\n",
    "  margin-top: 7px;\n",
    "}\n",
    ".profile .content .btn.active span {\n",
    "  animation: to-arrow 0.3s forwards ease-in-out;\n",
    "}\n",
    ".profile .content .btn.active span::before, .profile .content .btn.active span::after {\n",
    "  width: 60%;\n",
    "  right: -1px;\n",
    "}\n",
    ".profile .content .btn.active span::before {\n",
    "  transform: rotate(45deg);\n",
    "}\n",
    ".profile .content .btn.active span::after {\n",
    "  transform: rotate(-45deg);\n",
    "}\n",
    "@keyframes to-hamburger {\n",
    "  from {\n",
    "    transform: translateY(-50%) rotate(-180deg);\n",
    "  }\n",
    "}\n",
    "@keyframes to-arrow {\n",
    "  from {\n",
    "    transform: translateY(-50%) rotate(0deg);\n",
    "  }\n",
    "  to {\n",
    "    transform: translateY(-50%) rotate(180deg);\n",
    "  }\n",
    "}\n",
    ".profile .box {\n",
    "  width: 150px;\n",
    "  height: 150px;\n",
    "  opacity: 0;\n",
    "  border-radius: 50%;\n",
    "  background-color: rgba(255, 255, 255, 0.7);\n",
    "  position: absolute;\n",
    "  top: 50%;\n",
    "  right: -40%;\n",
    "  transform: translate(-50%, -50%);\n",
    "  transition-duration: 0.3s;\n",
    "}\n",
    ".profile .box i {\n",
    "  width: 50px;\n",
    "  height: 50px;\n",
    "  border-radius: 50%;\n",
    "  background-color: #ececec;\n",
    "  font-size: 26px;\n",
    "  text-align: center;\n",
    "  line-height: 50px;\n",
    "  position: absolute;\n",
    "  left: 18px;\n",
    "  top: calc(75px - 50px/2);\n",
    "  box-shadow: 0 0 0.5rem #babbbc;\n",
    "  transition-duration: 0.3s;\n",
    "}\n",
    ".profile .box i:hover {\n",
    "  transition-delay: initial !important;\n",
    "  box-shadow: 0 0 0 5px #babbbc;\n",
    "}\n",
    ".profile .box.open {\n",
    "  opacity: 1;\n",
    "}\n",
    ".profile .box.open i {\n",
    "  left: 60px;\n",
    "}\n",
    ".profile .box.open i:nth-of-type(1) {\n",
    "  transform: rotate(-90deg) translateX(120px) rotate(90deg);\n",
    "  transition-delay: 0s;\n",
    "}\n",
    ".profile .box.open i:nth-of-type(2) {\n",
    "  transform: rotate(-45deg) translateX(120px) rotate(45deg);\n",
    "  transition-delay: 0.1s;\n",
    "}\n",
    ".profile .box.open i:nth-of-type(3) {\n",
    "  transform: rotate(0deg) translateX(120px) rotate(0deg);\n",
    "  transition-delay: 0.2s;\n",
    "}\n",
    ".profile .box.open i:nth-of-type(4) {\n",
    "  transform: rotate(45deg) translateX(120px) rotate(-45deg);\n",
    "  transition-delay: 0.3s;\n",
    "}\n",
    ".profile .box.open i:nth-of-type(5) {\n",
    "  transform: rotate(90deg) translateX(120px) rotate(-90deg);\n",
    "  transition-delay: 0.4s;\n",
    "}\n",
    "</style>\n",
    "</head>\n",
    "<div class=\"profile\">\n",
    "  <div class=\"photo\"><img src=\"https://pbs.twimg.com/profile_images/874276197357596672/kUuht00m_400x400.jpg\"/></div>\n",
    "  <div class=\"content\">\n",
    "    <div class=\"text\">\n",
    "      <h3>Kelly Chen</h3>\n",
    "      <h6>Front-end Web Designer</h6>\n",
    "    </div>\n",
    "    <div class=\"btn\"><span></span></div>\n",
    "  </div>\n",
    "  <div class=\"box\"><i class=\"fa fa-codepen\"></i><i class=\"fa fa-facebook\"></i><i class=\"fa fa-github\"></i><i class=\"fa fa-tumblr\"></i><i class=\"fa fa-twitter\"></i></div>\n",
    "</div>\n",
    "\"\"\"\n",
    "from IPython.core.display import HTML\n",
    "print()\n",
    "print()\n",
    "print()\n",
    "print()\n",
    "print()\n",
    "print()\n",
    "print()\n",
    "print()\n",
    "print()\n",
    "print()\n",
    "print()\n",
    "print()\n",
    "print()\n",
    "print()\n",
    "print()\n",
    "print()\n",
    "print()\n",
    "print()\n",
    "\n",
    "HTML(html)\n"
   ]
  },
  {
   "cell_type": "code",
   "execution_count": 20,
   "metadata": {},
   "outputs": [
    {
     "data": {
      "application/vnd.plotly.v1+json": {
       "config": {
        "plotlyServerURL": "https://plot.ly"
       },
       "data": [
        {
         "type": "bar",
         "y": [
          2,
          3,
          1
         ]
        }
       ],
       "layout": {
        "template": {
         "data": {
          "bar": [
           {
            "error_x": {
             "color": "#2a3f5f"
            },
            "error_y": {
             "color": "#2a3f5f"
            },
            "marker": {
             "line": {
              "color": "#E5ECF6",
              "width": 0.5
             }
            },
            "type": "bar"
           }
          ],
          "barpolar": [
           {
            "marker": {
             "line": {
              "color": "#E5ECF6",
              "width": 0.5
             }
            },
            "type": "barpolar"
           }
          ],
          "carpet": [
           {
            "aaxis": {
             "endlinecolor": "#2a3f5f",
             "gridcolor": "white",
             "linecolor": "white",
             "minorgridcolor": "white",
             "startlinecolor": "#2a3f5f"
            },
            "baxis": {
             "endlinecolor": "#2a3f5f",
             "gridcolor": "white",
             "linecolor": "white",
             "minorgridcolor": "white",
             "startlinecolor": "#2a3f5f"
            },
            "type": "carpet"
           }
          ],
          "choropleth": [
           {
            "colorbar": {
             "outlinewidth": 0,
             "ticks": ""
            },
            "type": "choropleth"
           }
          ],
          "contour": [
           {
            "colorbar": {
             "outlinewidth": 0,
             "ticks": ""
            },
            "colorscale": [
             [
              0,
              "#0d0887"
             ],
             [
              0.1111111111111111,
              "#46039f"
             ],
             [
              0.2222222222222222,
              "#7201a8"
             ],
             [
              0.3333333333333333,
              "#9c179e"
             ],
             [
              0.4444444444444444,
              "#bd3786"
             ],
             [
              0.5555555555555556,
              "#d8576b"
             ],
             [
              0.6666666666666666,
              "#ed7953"
             ],
             [
              0.7777777777777778,
              "#fb9f3a"
             ],
             [
              0.8888888888888888,
              "#fdca26"
             ],
             [
              1,
              "#f0f921"
             ]
            ],
            "type": "contour"
           }
          ],
          "contourcarpet": [
           {
            "colorbar": {
             "outlinewidth": 0,
             "ticks": ""
            },
            "type": "contourcarpet"
           }
          ],
          "heatmap": [
           {
            "colorbar": {
             "outlinewidth": 0,
             "ticks": ""
            },
            "colorscale": [
             [
              0,
              "#0d0887"
             ],
             [
              0.1111111111111111,
              "#46039f"
             ],
             [
              0.2222222222222222,
              "#7201a8"
             ],
             [
              0.3333333333333333,
              "#9c179e"
             ],
             [
              0.4444444444444444,
              "#bd3786"
             ],
             [
              0.5555555555555556,
              "#d8576b"
             ],
             [
              0.6666666666666666,
              "#ed7953"
             ],
             [
              0.7777777777777778,
              "#fb9f3a"
             ],
             [
              0.8888888888888888,
              "#fdca26"
             ],
             [
              1,
              "#f0f921"
             ]
            ],
            "type": "heatmap"
           }
          ],
          "heatmapgl": [
           {
            "colorbar": {
             "outlinewidth": 0,
             "ticks": ""
            },
            "colorscale": [
             [
              0,
              "#0d0887"
             ],
             [
              0.1111111111111111,
              "#46039f"
             ],
             [
              0.2222222222222222,
              "#7201a8"
             ],
             [
              0.3333333333333333,
              "#9c179e"
             ],
             [
              0.4444444444444444,
              "#bd3786"
             ],
             [
              0.5555555555555556,
              "#d8576b"
             ],
             [
              0.6666666666666666,
              "#ed7953"
             ],
             [
              0.7777777777777778,
              "#fb9f3a"
             ],
             [
              0.8888888888888888,
              "#fdca26"
             ],
             [
              1,
              "#f0f921"
             ]
            ],
            "type": "heatmapgl"
           }
          ],
          "histogram": [
           {
            "marker": {
             "colorbar": {
              "outlinewidth": 0,
              "ticks": ""
             }
            },
            "type": "histogram"
           }
          ],
          "histogram2d": [
           {
            "colorbar": {
             "outlinewidth": 0,
             "ticks": ""
            },
            "colorscale": [
             [
              0,
              "#0d0887"
             ],
             [
              0.1111111111111111,
              "#46039f"
             ],
             [
              0.2222222222222222,
              "#7201a8"
             ],
             [
              0.3333333333333333,
              "#9c179e"
             ],
             [
              0.4444444444444444,
              "#bd3786"
             ],
             [
              0.5555555555555556,
              "#d8576b"
             ],
             [
              0.6666666666666666,
              "#ed7953"
             ],
             [
              0.7777777777777778,
              "#fb9f3a"
             ],
             [
              0.8888888888888888,
              "#fdca26"
             ],
             [
              1,
              "#f0f921"
             ]
            ],
            "type": "histogram2d"
           }
          ],
          "histogram2dcontour": [
           {
            "colorbar": {
             "outlinewidth": 0,
             "ticks": ""
            },
            "colorscale": [
             [
              0,
              "#0d0887"
             ],
             [
              0.1111111111111111,
              "#46039f"
             ],
             [
              0.2222222222222222,
              "#7201a8"
             ],
             [
              0.3333333333333333,
              "#9c179e"
             ],
             [
              0.4444444444444444,
              "#bd3786"
             ],
             [
              0.5555555555555556,
              "#d8576b"
             ],
             [
              0.6666666666666666,
              "#ed7953"
             ],
             [
              0.7777777777777778,
              "#fb9f3a"
             ],
             [
              0.8888888888888888,
              "#fdca26"
             ],
             [
              1,
              "#f0f921"
             ]
            ],
            "type": "histogram2dcontour"
           }
          ],
          "mesh3d": [
           {
            "colorbar": {
             "outlinewidth": 0,
             "ticks": ""
            },
            "type": "mesh3d"
           }
          ],
          "parcoords": [
           {
            "line": {
             "colorbar": {
              "outlinewidth": 0,
              "ticks": ""
             }
            },
            "type": "parcoords"
           }
          ],
          "pie": [
           {
            "automargin": true,
            "type": "pie"
           }
          ],
          "scatter": [
           {
            "marker": {
             "colorbar": {
              "outlinewidth": 0,
              "ticks": ""
             }
            },
            "type": "scatter"
           }
          ],
          "scatter3d": [
           {
            "line": {
             "colorbar": {
              "outlinewidth": 0,
              "ticks": ""
             }
            },
            "marker": {
             "colorbar": {
              "outlinewidth": 0,
              "ticks": ""
             }
            },
            "type": "scatter3d"
           }
          ],
          "scattercarpet": [
           {
            "marker": {
             "colorbar": {
              "outlinewidth": 0,
              "ticks": ""
             }
            },
            "type": "scattercarpet"
           }
          ],
          "scattergeo": [
           {
            "marker": {
             "colorbar": {
              "outlinewidth": 0,
              "ticks": ""
             }
            },
            "type": "scattergeo"
           }
          ],
          "scattergl": [
           {
            "marker": {
             "colorbar": {
              "outlinewidth": 0,
              "ticks": ""
             }
            },
            "type": "scattergl"
           }
          ],
          "scattermapbox": [
           {
            "marker": {
             "colorbar": {
              "outlinewidth": 0,
              "ticks": ""
             }
            },
            "type": "scattermapbox"
           }
          ],
          "scatterpolar": [
           {
            "marker": {
             "colorbar": {
              "outlinewidth": 0,
              "ticks": ""
             }
            },
            "type": "scatterpolar"
           }
          ],
          "scatterpolargl": [
           {
            "marker": {
             "colorbar": {
              "outlinewidth": 0,
              "ticks": ""
             }
            },
            "type": "scatterpolargl"
           }
          ],
          "scatterternary": [
           {
            "marker": {
             "colorbar": {
              "outlinewidth": 0,
              "ticks": ""
             }
            },
            "type": "scatterternary"
           }
          ],
          "surface": [
           {
            "colorbar": {
             "outlinewidth": 0,
             "ticks": ""
            },
            "colorscale": [
             [
              0,
              "#0d0887"
             ],
             [
              0.1111111111111111,
              "#46039f"
             ],
             [
              0.2222222222222222,
              "#7201a8"
             ],
             [
              0.3333333333333333,
              "#9c179e"
             ],
             [
              0.4444444444444444,
              "#bd3786"
             ],
             [
              0.5555555555555556,
              "#d8576b"
             ],
             [
              0.6666666666666666,
              "#ed7953"
             ],
             [
              0.7777777777777778,
              "#fb9f3a"
             ],
             [
              0.8888888888888888,
              "#fdca26"
             ],
             [
              1,
              "#f0f921"
             ]
            ],
            "type": "surface"
           }
          ],
          "table": [
           {
            "cells": {
             "fill": {
              "color": "#EBF0F8"
             },
             "line": {
              "color": "white"
             }
            },
            "header": {
             "fill": {
              "color": "#C8D4E3"
             },
             "line": {
              "color": "white"
             }
            },
            "type": "table"
           }
          ]
         },
         "layout": {
          "annotationdefaults": {
           "arrowcolor": "#2a3f5f",
           "arrowhead": 0,
           "arrowwidth": 1
          },
          "coloraxis": {
           "colorbar": {
            "outlinewidth": 0,
            "ticks": ""
           }
          },
          "colorscale": {
           "diverging": [
            [
             0,
             "#8e0152"
            ],
            [
             0.1,
             "#c51b7d"
            ],
            [
             0.2,
             "#de77ae"
            ],
            [
             0.3,
             "#f1b6da"
            ],
            [
             0.4,
             "#fde0ef"
            ],
            [
             0.5,
             "#f7f7f7"
            ],
            [
             0.6,
             "#e6f5d0"
            ],
            [
             0.7,
             "#b8e186"
            ],
            [
             0.8,
             "#7fbc41"
            ],
            [
             0.9,
             "#4d9221"
            ],
            [
             1,
             "#276419"
            ]
           ],
           "sequential": [
            [
             0,
             "#0d0887"
            ],
            [
             0.1111111111111111,
             "#46039f"
            ],
            [
             0.2222222222222222,
             "#7201a8"
            ],
            [
             0.3333333333333333,
             "#9c179e"
            ],
            [
             0.4444444444444444,
             "#bd3786"
            ],
            [
             0.5555555555555556,
             "#d8576b"
            ],
            [
             0.6666666666666666,
             "#ed7953"
            ],
            [
             0.7777777777777778,
             "#fb9f3a"
            ],
            [
             0.8888888888888888,
             "#fdca26"
            ],
            [
             1,
             "#f0f921"
            ]
           ],
           "sequentialminus": [
            [
             0,
             "#0d0887"
            ],
            [
             0.1111111111111111,
             "#46039f"
            ],
            [
             0.2222222222222222,
             "#7201a8"
            ],
            [
             0.3333333333333333,
             "#9c179e"
            ],
            [
             0.4444444444444444,
             "#bd3786"
            ],
            [
             0.5555555555555556,
             "#d8576b"
            ],
            [
             0.6666666666666666,
             "#ed7953"
            ],
            [
             0.7777777777777778,
             "#fb9f3a"
            ],
            [
             0.8888888888888888,
             "#fdca26"
            ],
            [
             1,
             "#f0f921"
            ]
           ]
          },
          "colorway": [
           "#636efa",
           "#EF553B",
           "#00cc96",
           "#ab63fa",
           "#FFA15A",
           "#19d3f3",
           "#FF6692",
           "#B6E880",
           "#FF97FF",
           "#FECB52"
          ],
          "font": {
           "color": "#2a3f5f"
          },
          "geo": {
           "bgcolor": "white",
           "lakecolor": "white",
           "landcolor": "#E5ECF6",
           "showlakes": true,
           "showland": true,
           "subunitcolor": "white"
          },
          "hoverlabel": {
           "align": "left"
          },
          "hovermode": "closest",
          "mapbox": {
           "style": "light"
          },
          "paper_bgcolor": "white",
          "plot_bgcolor": "#E5ECF6",
          "polar": {
           "angularaxis": {
            "gridcolor": "white",
            "linecolor": "white",
            "ticks": ""
           },
           "bgcolor": "#E5ECF6",
           "radialaxis": {
            "gridcolor": "white",
            "linecolor": "white",
            "ticks": ""
           }
          },
          "scene": {
           "xaxis": {
            "backgroundcolor": "#E5ECF6",
            "gridcolor": "white",
            "gridwidth": 2,
            "linecolor": "white",
            "showbackground": true,
            "ticks": "",
            "zerolinecolor": "white"
           },
           "yaxis": {
            "backgroundcolor": "#E5ECF6",
            "gridcolor": "white",
            "gridwidth": 2,
            "linecolor": "white",
            "showbackground": true,
            "ticks": "",
            "zerolinecolor": "white"
           },
           "zaxis": {
            "backgroundcolor": "#E5ECF6",
            "gridcolor": "white",
            "gridwidth": 2,
            "linecolor": "white",
            "showbackground": true,
            "ticks": "",
            "zerolinecolor": "white"
           }
          },
          "shapedefaults": {
           "line": {
            "color": "#2a3f5f"
           }
          },
          "ternary": {
           "aaxis": {
            "gridcolor": "white",
            "linecolor": "white",
            "ticks": ""
           },
           "baxis": {
            "gridcolor": "white",
            "linecolor": "white",
            "ticks": ""
           },
           "bgcolor": "#E5ECF6",
           "caxis": {
            "gridcolor": "white",
            "linecolor": "white",
            "ticks": ""
           }
          },
          "title": {
           "x": 0.05
          },
          "xaxis": {
           "automargin": true,
           "gridcolor": "white",
           "linecolor": "white",
           "ticks": "",
           "title": {
            "standoff": 15
           },
           "zerolinecolor": "white",
           "zerolinewidth": 2
          },
          "yaxis": {
           "automargin": true,
           "gridcolor": "white",
           "linecolor": "white",
           "ticks": "",
           "title": {
            "standoff": 15
           },
           "zerolinecolor": "white",
           "zerolinewidth": 2
          }
         }
        }
       }
      },
      "text/html": [
       "<div>\n",
       "        \n",
       "        \n",
       "            <div id=\"0e324c7f-c1e2-42a9-acad-a1d90af9252d\" class=\"plotly-graph-div\" style=\"height:525px; width:100%;\"></div>\n",
       "            <script type=\"text/javascript\">\n",
       "                require([\"plotly\"], function(Plotly) {\n",
       "                    window.PLOTLYENV=window.PLOTLYENV || {};\n",
       "                    \n",
       "                if (document.getElementById(\"0e324c7f-c1e2-42a9-acad-a1d90af9252d\")) {\n",
       "                    Plotly.newPlot(\n",
       "                        '0e324c7f-c1e2-42a9-acad-a1d90af9252d',\n",
       "                        [{\"type\": \"bar\", \"y\": [2, 3, 1]}],\n",
       "                        {\"template\": {\"data\": {\"bar\": [{\"error_x\": {\"color\": \"#2a3f5f\"}, \"error_y\": {\"color\": \"#2a3f5f\"}, \"marker\": {\"line\": {\"color\": \"#E5ECF6\", \"width\": 0.5}}, \"type\": \"bar\"}], \"barpolar\": [{\"marker\": {\"line\": {\"color\": \"#E5ECF6\", \"width\": 0.5}}, \"type\": \"barpolar\"}], \"carpet\": [{\"aaxis\": {\"endlinecolor\": \"#2a3f5f\", \"gridcolor\": \"white\", \"linecolor\": \"white\", \"minorgridcolor\": \"white\", \"startlinecolor\": \"#2a3f5f\"}, \"baxis\": {\"endlinecolor\": \"#2a3f5f\", \"gridcolor\": \"white\", \"linecolor\": \"white\", \"minorgridcolor\": \"white\", \"startlinecolor\": \"#2a3f5f\"}, \"type\": \"carpet\"}], \"choropleth\": [{\"colorbar\": {\"outlinewidth\": 0, \"ticks\": \"\"}, \"type\": \"choropleth\"}], \"contour\": [{\"colorbar\": {\"outlinewidth\": 0, \"ticks\": \"\"}, \"colorscale\": [[0.0, \"#0d0887\"], [0.1111111111111111, \"#46039f\"], [0.2222222222222222, \"#7201a8\"], [0.3333333333333333, \"#9c179e\"], [0.4444444444444444, \"#bd3786\"], [0.5555555555555556, \"#d8576b\"], [0.6666666666666666, \"#ed7953\"], [0.7777777777777778, \"#fb9f3a\"], [0.8888888888888888, \"#fdca26\"], [1.0, \"#f0f921\"]], \"type\": \"contour\"}], \"contourcarpet\": [{\"colorbar\": {\"outlinewidth\": 0, \"ticks\": \"\"}, \"type\": \"contourcarpet\"}], \"heatmap\": [{\"colorbar\": {\"outlinewidth\": 0, \"ticks\": \"\"}, \"colorscale\": [[0.0, \"#0d0887\"], [0.1111111111111111, \"#46039f\"], [0.2222222222222222, \"#7201a8\"], [0.3333333333333333, \"#9c179e\"], [0.4444444444444444, \"#bd3786\"], [0.5555555555555556, \"#d8576b\"], [0.6666666666666666, \"#ed7953\"], [0.7777777777777778, \"#fb9f3a\"], [0.8888888888888888, \"#fdca26\"], [1.0, \"#f0f921\"]], \"type\": \"heatmap\"}], \"heatmapgl\": [{\"colorbar\": {\"outlinewidth\": 0, \"ticks\": \"\"}, \"colorscale\": [[0.0, \"#0d0887\"], [0.1111111111111111, \"#46039f\"], [0.2222222222222222, \"#7201a8\"], [0.3333333333333333, \"#9c179e\"], [0.4444444444444444, \"#bd3786\"], [0.5555555555555556, \"#d8576b\"], [0.6666666666666666, \"#ed7953\"], [0.7777777777777778, \"#fb9f3a\"], [0.8888888888888888, \"#fdca26\"], [1.0, \"#f0f921\"]], \"type\": \"heatmapgl\"}], \"histogram\": [{\"marker\": {\"colorbar\": {\"outlinewidth\": 0, \"ticks\": \"\"}}, \"type\": \"histogram\"}], \"histogram2d\": [{\"colorbar\": {\"outlinewidth\": 0, \"ticks\": \"\"}, \"colorscale\": [[0.0, \"#0d0887\"], [0.1111111111111111, \"#46039f\"], [0.2222222222222222, \"#7201a8\"], [0.3333333333333333, \"#9c179e\"], [0.4444444444444444, \"#bd3786\"], [0.5555555555555556, \"#d8576b\"], [0.6666666666666666, \"#ed7953\"], [0.7777777777777778, \"#fb9f3a\"], [0.8888888888888888, \"#fdca26\"], [1.0, \"#f0f921\"]], \"type\": \"histogram2d\"}], \"histogram2dcontour\": [{\"colorbar\": {\"outlinewidth\": 0, \"ticks\": \"\"}, \"colorscale\": [[0.0, \"#0d0887\"], [0.1111111111111111, \"#46039f\"], [0.2222222222222222, \"#7201a8\"], [0.3333333333333333, \"#9c179e\"], [0.4444444444444444, \"#bd3786\"], [0.5555555555555556, \"#d8576b\"], [0.6666666666666666, \"#ed7953\"], [0.7777777777777778, \"#fb9f3a\"], [0.8888888888888888, \"#fdca26\"], [1.0, \"#f0f921\"]], \"type\": \"histogram2dcontour\"}], \"mesh3d\": [{\"colorbar\": {\"outlinewidth\": 0, \"ticks\": \"\"}, \"type\": \"mesh3d\"}], \"parcoords\": [{\"line\": {\"colorbar\": {\"outlinewidth\": 0, \"ticks\": \"\"}}, \"type\": \"parcoords\"}], \"pie\": [{\"automargin\": true, \"type\": \"pie\"}], \"scatter\": [{\"marker\": {\"colorbar\": {\"outlinewidth\": 0, \"ticks\": \"\"}}, \"type\": \"scatter\"}], \"scatter3d\": [{\"line\": {\"colorbar\": {\"outlinewidth\": 0, \"ticks\": \"\"}}, \"marker\": {\"colorbar\": {\"outlinewidth\": 0, \"ticks\": \"\"}}, \"type\": \"scatter3d\"}], \"scattercarpet\": [{\"marker\": {\"colorbar\": {\"outlinewidth\": 0, \"ticks\": \"\"}}, \"type\": \"scattercarpet\"}], \"scattergeo\": [{\"marker\": {\"colorbar\": {\"outlinewidth\": 0, \"ticks\": \"\"}}, \"type\": \"scattergeo\"}], \"scattergl\": [{\"marker\": {\"colorbar\": {\"outlinewidth\": 0, \"ticks\": \"\"}}, \"type\": \"scattergl\"}], \"scattermapbox\": [{\"marker\": {\"colorbar\": {\"outlinewidth\": 0, \"ticks\": \"\"}}, \"type\": \"scattermapbox\"}], \"scatterpolar\": [{\"marker\": {\"colorbar\": {\"outlinewidth\": 0, \"ticks\": \"\"}}, \"type\": \"scatterpolar\"}], \"scatterpolargl\": [{\"marker\": {\"colorbar\": {\"outlinewidth\": 0, \"ticks\": \"\"}}, \"type\": \"scatterpolargl\"}], \"scatterternary\": [{\"marker\": {\"colorbar\": {\"outlinewidth\": 0, \"ticks\": \"\"}}, \"type\": \"scatterternary\"}], \"surface\": [{\"colorbar\": {\"outlinewidth\": 0, \"ticks\": \"\"}, \"colorscale\": [[0.0, \"#0d0887\"], [0.1111111111111111, \"#46039f\"], [0.2222222222222222, \"#7201a8\"], [0.3333333333333333, \"#9c179e\"], [0.4444444444444444, \"#bd3786\"], [0.5555555555555556, \"#d8576b\"], [0.6666666666666666, \"#ed7953\"], [0.7777777777777778, \"#fb9f3a\"], [0.8888888888888888, \"#fdca26\"], [1.0, \"#f0f921\"]], \"type\": \"surface\"}], \"table\": [{\"cells\": {\"fill\": {\"color\": \"#EBF0F8\"}, \"line\": {\"color\": \"white\"}}, \"header\": {\"fill\": {\"color\": \"#C8D4E3\"}, \"line\": {\"color\": \"white\"}}, \"type\": \"table\"}]}, \"layout\": {\"annotationdefaults\": {\"arrowcolor\": \"#2a3f5f\", \"arrowhead\": 0, \"arrowwidth\": 1}, \"coloraxis\": {\"colorbar\": {\"outlinewidth\": 0, \"ticks\": \"\"}}, \"colorscale\": {\"diverging\": [[0, \"#8e0152\"], [0.1, \"#c51b7d\"], [0.2, \"#de77ae\"], [0.3, \"#f1b6da\"], [0.4, \"#fde0ef\"], [0.5, \"#f7f7f7\"], [0.6, \"#e6f5d0\"], [0.7, \"#b8e186\"], [0.8, \"#7fbc41\"], [0.9, \"#4d9221\"], [1, \"#276419\"]], \"sequential\": [[0.0, \"#0d0887\"], [0.1111111111111111, \"#46039f\"], [0.2222222222222222, \"#7201a8\"], [0.3333333333333333, \"#9c179e\"], [0.4444444444444444, \"#bd3786\"], [0.5555555555555556, \"#d8576b\"], [0.6666666666666666, \"#ed7953\"], [0.7777777777777778, \"#fb9f3a\"], [0.8888888888888888, \"#fdca26\"], [1.0, \"#f0f921\"]], \"sequentialminus\": [[0.0, \"#0d0887\"], [0.1111111111111111, \"#46039f\"], [0.2222222222222222, \"#7201a8\"], [0.3333333333333333, \"#9c179e\"], [0.4444444444444444, \"#bd3786\"], [0.5555555555555556, \"#d8576b\"], [0.6666666666666666, \"#ed7953\"], [0.7777777777777778, \"#fb9f3a\"], [0.8888888888888888, \"#fdca26\"], [1.0, \"#f0f921\"]]}, \"colorway\": [\"#636efa\", \"#EF553B\", \"#00cc96\", \"#ab63fa\", \"#FFA15A\", \"#19d3f3\", \"#FF6692\", \"#B6E880\", \"#FF97FF\", \"#FECB52\"], \"font\": {\"color\": \"#2a3f5f\"}, \"geo\": {\"bgcolor\": \"white\", \"lakecolor\": \"white\", \"landcolor\": \"#E5ECF6\", \"showlakes\": true, \"showland\": true, \"subunitcolor\": \"white\"}, \"hoverlabel\": {\"align\": \"left\"}, \"hovermode\": \"closest\", \"mapbox\": {\"style\": \"light\"}, \"paper_bgcolor\": \"white\", \"plot_bgcolor\": \"#E5ECF6\", \"polar\": {\"angularaxis\": {\"gridcolor\": \"white\", \"linecolor\": \"white\", \"ticks\": \"\"}, \"bgcolor\": \"#E5ECF6\", \"radialaxis\": {\"gridcolor\": \"white\", \"linecolor\": \"white\", \"ticks\": \"\"}}, \"scene\": {\"xaxis\": {\"backgroundcolor\": \"#E5ECF6\", \"gridcolor\": \"white\", \"gridwidth\": 2, \"linecolor\": \"white\", \"showbackground\": true, \"ticks\": \"\", \"zerolinecolor\": \"white\"}, \"yaxis\": {\"backgroundcolor\": \"#E5ECF6\", \"gridcolor\": \"white\", \"gridwidth\": 2, \"linecolor\": \"white\", \"showbackground\": true, \"ticks\": \"\", \"zerolinecolor\": \"white\"}, \"zaxis\": {\"backgroundcolor\": \"#E5ECF6\", \"gridcolor\": \"white\", \"gridwidth\": 2, \"linecolor\": \"white\", \"showbackground\": true, \"ticks\": \"\", \"zerolinecolor\": \"white\"}}, \"shapedefaults\": {\"line\": {\"color\": \"#2a3f5f\"}}, \"ternary\": {\"aaxis\": {\"gridcolor\": \"white\", \"linecolor\": \"white\", \"ticks\": \"\"}, \"baxis\": {\"gridcolor\": \"white\", \"linecolor\": \"white\", \"ticks\": \"\"}, \"bgcolor\": \"#E5ECF6\", \"caxis\": {\"gridcolor\": \"white\", \"linecolor\": \"white\", \"ticks\": \"\"}}, \"title\": {\"x\": 0.05}, \"xaxis\": {\"automargin\": true, \"gridcolor\": \"white\", \"linecolor\": \"white\", \"ticks\": \"\", \"title\": {\"standoff\": 15}, \"zerolinecolor\": \"white\", \"zerolinewidth\": 2}, \"yaxis\": {\"automargin\": true, \"gridcolor\": \"white\", \"linecolor\": \"white\", \"ticks\": \"\", \"title\": {\"standoff\": 15}, \"zerolinecolor\": \"white\", \"zerolinewidth\": 2}}}},\n",
       "                        {\"responsive\": true}\n",
       "                    ).then(function(){\n",
       "                            \n",
       "var gd = document.getElementById('0e324c7f-c1e2-42a9-acad-a1d90af9252d');\n",
       "var x = new MutationObserver(function (mutations, observer) {{\n",
       "        var display = window.getComputedStyle(gd).display;\n",
       "        if (!display || display === 'none') {{\n",
       "            console.log([gd, 'removed!']);\n",
       "            Plotly.purge(gd);\n",
       "            observer.disconnect();\n",
       "        }}\n",
       "}});\n",
       "\n",
       "// Listen for the removal of the full notebook cells\n",
       "var notebookContainer = gd.closest('#notebook-container');\n",
       "if (notebookContainer) {{\n",
       "    x.observe(notebookContainer, {childList: true});\n",
       "}}\n",
       "\n",
       "// Listen for the clearing of the current output cell\n",
       "var outputEl = gd.closest('.output');\n",
       "if (outputEl) {{\n",
       "    x.observe(outputEl, {childList: true});\n",
       "}}\n",
       "\n",
       "                        })\n",
       "                };\n",
       "                });\n",
       "            </script>\n",
       "        </div>"
      ]
     },
     "metadata": {},
     "output_type": "display_data"
    }
   ],
   "source": [
    "#hide_input\n",
    "import plotly.graph_objects as go\n",
    "fig = go.Figure(data=go.Bar(y=[2, 3, 1]))\n",
    "fig.show()"
   ]
  },
  {
   "cell_type": "code",
   "execution_count": null,
   "metadata": {},
   "outputs": [],
   "source": []
  },
  {
   "cell_type": "code",
   "execution_count": 4,
   "metadata": {},
   "outputs": [
    {
     "name": "stdout",
     "output_type": "stream",
     "text": [
      "Untitled.ipynb\tcss  js\r\n"
     ]
    }
   ],
   "source": [
    "!ls"
   ]
  },
  {
   "cell_type": "code",
   "execution_count": null,
   "metadata": {},
   "outputs": [],
   "source": []
  }
 ],
 "metadata": {
  "kernelspec": {
   "display_name": "Python 3",
   "language": "python",
   "name": "python3"
  },
  "language_info": {
   "codemirror_mode": {
    "name": "ipython",
    "version": 3
   },
   "file_extension": ".py",
   "mimetype": "text/x-python",
   "name": "python",
   "nbconvert_exporter": "python",
   "pygments_lexer": "ipython3",
   "version": "3.7.3"
  }
 },
 "nbformat": 4,
 "nbformat_minor": 2
}
